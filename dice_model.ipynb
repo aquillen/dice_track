{
 "cells": [
  {
   "cell_type": "code",
   "execution_count": 35,
   "metadata": {},
   "outputs": [],
   "source": [
    "import numpy as np\n",
    "import matplotlib.pyplot as plt\n",
    "%matplotlib inline\n",
    "\n",
    "\n",
    "import meshplot\n",
    "# for display of meshes\n",
    "#https://skoch9.github.io/meshplot/tutorial/\n",
    "\n",
    "from pyquaternion import Quaternion\n",
    "#http://kieranwynn.github.io/pyquaternion/"
   ]
  },
  {
   "cell_type": "code",
   "execution_count": 189,
   "metadata": {},
   "outputs": [],
   "source": [
    "# making a class for the dice d8 \n",
    "class dice_d8():\n",
    "    # make a d8 with length 1 between top and bottom verticles \n",
    "    # and length 1 between opposite equatorial vertices\n",
    "    def __init__(self):\n",
    "        self.nv = 6  # number of vertices\n",
    "        self.nf = 8  # number of faces\n",
    "        self.vertices = np.zeros((self.nv,3))  # list of 6 points, each with three coordinates\n",
    "        self.faces = np.zeros((self.nf,3),dtype=int)  # 8 faces each listing 3 vertices\n",
    "        hfac = 2  # gives length 1 between opposite vertices  on equator\n",
    "        vfac = 2  # gives length 1 between opposite vertices on poles\n",
    "        self.vertices[0,:] = np.array([ 0, 0, 1])/vfac  # top\n",
    "        self.vertices[1,:] = np.array([ 1, 0, 0])/hfac  # equatorial\n",
    "        self.vertices[2,:] = np.array([ 0, 1, 0])/hfac  # equatorial\n",
    "        self.vertices[3,:] = np.array([-1, 0, 0])/hfac  # equatorial\n",
    "        self.vertices[4,:] = np.array([ 0,-1, 0])/hfac  # equatorial\n",
    "        self.vertices[5,:] = np.array([ 0, 0,-1])/vfac  # bottom\n",
    "        \n",
    "        self.faces[0,:] = np.array([0,1,2])\n",
    "        self.faces[1,:] = np.array([0,2,3])\n",
    "        self.faces[2,:] = np.array([0,3,4])\n",
    "        self.faces[3,:] = np.array([0,4,1])\n",
    "        self.faces[4,:] = np.array([5,2,1])\n",
    "        self.faces[5,:] = np.array([5,3,2])\n",
    "        self.faces[6,:] = np.array([5,4,3])\n",
    "        self.faces[7,:] = np.array([5,1,4])\n",
    "        # these have been checked for outward orientation (but not 100% sure yet)\n",
    "        \n",
    "        # compute face normal unit vectors\n",
    "        self.face_normals =  np.zeros((self.nf,3)) \n",
    "        self.compute_face_normals()\n",
    "        \n",
    "        # compute face centroid positions\n",
    "        self.face_centroids = np.zeros((self.nf,3)) \n",
    "        self.compute_face_centroids()\n",
    "        \n",
    "        # find out whether the vertices are visible, viewer assumed to be on the +z axis direction\n",
    "        self.v_visible  = np.zeros(self.nv,dtype=int) \n",
    "        self.compute_isvisible()\n",
    "    \n",
    "    # loop over faces to compute face normal vectors\n",
    "    def compute_face_normals(self):\n",
    "        for iface in range(self.nf):\n",
    "            iv0 = self.faces[iface,0]  # this is an index for a vertex\n",
    "            iv1 = self.faces[iface,1]\n",
    "            iv2 = self.faces[iface,2]\n",
    "            v0 = self.vertices[iv0,:]  # these are the three vertices\n",
    "            v1 = self.vertices[iv1,:]\n",
    "            v2 = self.vertices[iv2,:]\n",
    "            dv01 = v1-v0  # edge directions \n",
    "            dv12 = v2-v1 \n",
    "            nvec = cross_prod_2vecs(dv01,dv12)  # compute cross product\n",
    "            nvec/= len_vec(nvec)  # normalize \n",
    "            self.face_normals[iface,:] = nvec\n",
    "     \n",
    "    # compute the centroid of each face\n",
    "    def compute_face_centroids(self):\n",
    "        for iface in range(self.nf):\n",
    "            iv0 = self.faces[iface,0]  # this is an index for a vertex\n",
    "            iv1 = self.faces[iface,1]\n",
    "            iv2 = self.faces[iface,2]\n",
    "            v0 = self.vertices[iv0,:]  # these are the three vertices\n",
    "            v1 = self.vertices[iv1,:]\n",
    "            v2 = self.vertices[iv2,:]\n",
    "            vc = (v0+v1+v2)/3.0  # centroid\n",
    "            self.face_centroids[iface,:] = vc\n",
    "        \n",
    "    # compute and return center of mass coordinate position\n",
    "    def com(self):\n",
    "        nv = len(self.vertices)\n",
    "        xcom = np.sum(self.vertices[:,0])/nv\n",
    "        ycom = np.sum(self.vertices[:,1])/nv\n",
    "        zcom = np.sum(self.vertices[:,2])/nv\n",
    "        return np.array([xcom,ycom,zcom])\n",
    "    \n",
    "    # rotate the dice by angle phi in radians about r_axis using a quaturnion\n",
    "    # rotate about the center of mass \n",
    "    def rotate(self,r_axis,phi):\n",
    "        q = Quaternion(axis=r_axis, angle=phi)\n",
    "        nv = len(self.vertices)\n",
    "        com_position  = self.com() #compute center of mass \n",
    "        for i in range(nv):\n",
    "            v = np.squeeze(self.vertices[i,:]) - com_position  # a vertex w.r.t to center of mass\n",
    "            v = q.rotate(v)  # rotate it with the quaturnion\n",
    "            v += com_position # restore center of mass position\n",
    "            self.vertices[i,:] = v   # replace with rotated vertex\n",
    "        self.compute_face_normals()  # update face normal vectors\n",
    "        self.compute_face_centroids() # update face centroids\n",
    "        self.compute_isvisible()  # update visibility of vertices\n",
    "        \n",
    "    # are vertices visible from +z direction of viewing?\n",
    "    # this routine seems to work now\n",
    "    # vertex is assumed visible if one face that it is connect to \n",
    "    # is lit with illumination coming from +z\n",
    "    # we find out if a face is lit if the face normal has a +z component\n",
    "    def compute_isvisible(self):\n",
    "        self.v_visible *=0  # reset to zero\n",
    "        for iface in range(self.nf):\n",
    "            if (self.face_normals[iface,2] >= 0):  # sun lit\n",
    "                iv0 = self.faces[iface,0]  # this is an index for a vertex\n",
    "                iv1 = self.faces[iface,1]\n",
    "                iv2 = self.faces[iface,2]\n",
    "                self.v_visible[iv0]=1\n",
    "                self.v_visible[iv1]=1\n",
    "                self.v_visible[iv2]=1\n",
    "                                         \n",
    "\n",
    "# compute cross product of C=A X B for 3D vectors A,B, return C\n",
    "def cross_prod_2vecs(A,B):\n",
    "    C0 = A[1]*B[2] - A[2]*B[1]\n",
    "    C1 = A[2]*B[0] - A[0]*B[2]\n",
    "    C2 = A[0]*B[1] - A[1]*B[0]\n",
    "    return np.array([C0,C1,C2])\n",
    "\n",
    "# return the length of a vector\n",
    "def len_vec(A):\n",
    "    r2=0.0\n",
    "    for i in range(3):\n",
    "        r2 += A[i]**2\n",
    "    return np.sqrt(r2)\n",
    "\n",
    "\n",
    "# plot the edges of all the faces as a blue wireframe    \n",
    "# arguments:\n",
    "#   ax is axis for plotting\n",
    "#   dice  (class dice_d8)\n",
    "def plt_edges(ax,dice):\n",
    "    nf = len(dice.faces)\n",
    "    f = dice.faces\n",
    "    v = dice.vertices\n",
    "    cc = 'skyblue'\n",
    "    for i in range(nf):\n",
    "        iv0 = f[i,0]  # this is an index!\n",
    "        iv1 = f[i,1]\n",
    "        iv2 = f[i,2]\n",
    "        v0x = v[iv0,0]; v0y = v[iv0,1]\n",
    "        v1x = v[iv1,0]; v1y = v[iv1,1]\n",
    "        v2x = v[iv2,0]; v2y = v[iv2,1]\n",
    "        \n",
    "        ax.plot([v0x,v1x],[v0y,v1y],'-',color=cc)\n",
    "        ax.plot([v1x,v2x],[v1y,v2y],'-',color=cc)\n",
    "        ax.plot([v0x,v2x],[v0y,v2y],'-',color=cc)\n",
    "        \n",
    "# plot the face normal vectors as arrows\n",
    "# this is to check the directions and face orientations\n",
    "# arrows are orange if z component is positive, brown otherwise\n",
    "def plt_face_normals(ax,dice):  \n",
    "    nf = len(dice.faces)\n",
    "    n = dice.face_normals\n",
    "    fc = dice.face_centroids\n",
    "    xvals = np.squeeze(fc[:,0])\n",
    "    yvals = np.squeeze(fc[:,1])\n",
    "    dxvals = np.squeeze(n[:,0])\n",
    "    dyvals = np.squeeze(n[:,1])\n",
    "    dzvals = np.squeeze(n[:,2])\n",
    "    ii = dzvals >= 0\n",
    "    ax.quiver(xvals[ii],yvals[ii],dxvals[ii],dyvals[ii],color='orange')\n",
    "    ii = dzvals < 0\n",
    "    ax.quiver(xvals[ii],yvals[ii],dxvals[ii],dyvals[ii],color='brown')\n",
    "    \n",
    "# plot visible vertices  \n",
    "# plot poles as red, equatorial points in green\n",
    "def plt_visible_vertices(ax,dice):\n",
    "    v = dice.vertices\n",
    "    xvals = np.squeeze(v[:,0])\n",
    "    yvals = np.squeeze(v[:,1])\n",
    "    ii = (dice.v_visible >0)  # visible vertices\n",
    "    red_vertices = np.array([True, False, False, False, False, True])\n",
    "    green_vertices = np.logical_not(red_vertices)\n",
    "    ii_red = (ii & red_vertices)\n",
    "    ii_green = (ii & green_vertices)\n",
    "    ax.plot(xvals[ii_green],yvals[ii_green],'go')  # plot equatorial points in green\n",
    "    ax.plot(xvals[ii_red],yvals[ii_red],'ro')  # plot poles as red\n"
   ]
  },
  {
   "cell_type": "code",
   "execution_count": 190,
   "metadata": {},
   "outputs": [
    {
     "data": {
      "image/png": "[encoded data removed]",
      "text/plain": [
       "<Figure size 288x288 with 1 Axes>"
      ]
     },
     "metadata": {
      "needs_background": "light"
     },
     "output_type": "display_data"
    }
   ],
   "source": [
    "# tests!\n",
    "dice = dice_d8()\n",
    "theta = -3*np.pi/2;  lat = np.pi/5\n",
    "r_axis = np.array([np.cos(theta)*np.sin(lat),np.sin(theta)*np.sin(lat),np.cos(lat)])\n",
    "phi = 2.7\n",
    "dice.rotate(r_axis,phi)  # rotate the dice and display\n",
    "#meshplot.plot(dice.vertices, dice.faces) \n",
    "fig,ax = plt.subplots(1,1,figsize=(4,4))\n",
    "ax.set_aspect('equal')\n",
    "plt_edges(ax,dice)  # display edges as a blue wireframe\n",
    "plt_face_normals(ax,dice)  # display face normals at face centroids\n",
    "plt_visible_vertices(ax,dice)  # only plot visible vertices\n",
    "# looks ok "
   ]
  },
  {
   "cell_type": "code",
   "execution_count": 191,
   "metadata": {},
   "outputs": [
    {
     "data": {
      "application/vnd.jupyter.widget-view+json": {
       "model_id": "197bb7f44741416e822104433e6ea5e9",
       "version_major": 2,
       "version_minor": 0
      },
      "text/plain": [
       "Renderer(camera=PerspectiveCamera(children=(DirectionalLight(color='white', intensity=0.6, position=(0.0, 0.0,…"
      ]
     },
     "metadata": {},
     "output_type": "display_data"
    },
    {
     "data": {
      "text/plain": [
       "<meshplot.Viewer.Viewer at 0x7fa8f92ffe50>"
      ]
     },
     "execution_count": 191,
     "metadata": {},
     "output_type": "execute_result"
    }
   ],
   "source": [
    "#theta = np.pi/4;  lat = np.pi/8\n",
    "#r_axis = np.array([np.cos(theta)*np.sin(lat),np.sin(theta)*np.sin(lat),np.cos(lat)])\n",
    "#phi = np.pi/8\n",
    "#dice.rotate(r_axis,phi)  # rotate the dice and display\n",
    "meshplot.plot(dice.vertices, dice.faces) "
   ]
  },
  {
   "cell_type": "code",
   "execution_count": null,
   "metadata": {},
   "outputs": [],
   "source": [
    "# looks like quaturnion rotate works"
   ]
  },
  {
   "cell_type": "code",
   "execution_count": 218,
   "metadata": {},
   "outputs": [],
   "source": [
    "# move and rotate the d8 dice, return tracks\n",
    "# arguments:\n",
    "#   vx:  center of mass velocity in x direction\n",
    "#   dt:  timestep\n",
    "#   ndt: number of timesteps to do (integer)\n",
    "#   r_axis: rotation axis is a length 3 array\n",
    "#   phi_dot: spin rate\n",
    "# returns tracks and their visibility\n",
    "#    xarr,yarr 2d arrays of x,y,z coordinates of vertices at different times\n",
    "def model_tracks_dice(vx,r_axis,phidot,dt,ndt):\n",
    "    dice = dice_d8()  # start with dice at generic orientation\n",
    "    dphi = phidot*dt\n",
    "    xarr = np.zeros((6,ndt))  # xpositions of 6 verticles at ndt timesteps\n",
    "    yarr = np.zeros((6,ndt))\n",
    "    zarr = np.zeros((6,ndt))\n",
    "    v_visible = np.zeros((6,ndt),dtype = int)  # is the vertex visible\n",
    "    for i in range(ndt): # loop over timesteps\n",
    "        dice.rotate(r_axis,dphi)  # rotate by dphi\n",
    "        xpos = np.squeeze(dice.vertices[:,0]) + vx*dt*i  # xcoords of each vertex\n",
    "        ypos = np.squeeze(dice.vertices[:,1])   # ycoords of each vertex\n",
    "        zpos = np.squeeze(dice.vertices[:,2])   # zcoords of each vertex\n",
    "        xarr[:,i] = xpos\n",
    "        yarr[:,i] = ypos\n",
    "        zarr[:,i] = zpos\n",
    "        v_visible[:,i] = dice.v_visible\n",
    "    tarr = np.arange(ndt)*dt  # times\n",
    "    return tarr,xarr,yarr,zarr,v_visible\n",
    "\n",
    "# same as above except plot edges every di index in the series\n",
    "# and plot visible vertices at the same time\n",
    "def move_and_rotate_i(ax,di,vx,r_axis,phidot,dt,ndt,plot_e, plot_v):\n",
    "    dice = dice_d8()  # start with dice at generic orientation\n",
    "    dphi = phidot*dt*di\n",
    "    if (plot_e >0):\n",
    "        plt_edges(ax,dice)  # plot all edges wireframe\n",
    "    if (plot_v >0):\n",
    "        plt_visible_vertices(ax,dice)  # plot visible vertices in red and green\n",
    "\n",
    "    for i in range(int(ndt/di)):\n",
    "        dice.rotate(r_axis,dphi)  # rotate by dphi\n",
    "        dice.vertices[:,0] += vx*dt*di\n",
    "        if (plot_e >0):\n",
    "            plt_edges(ax,dice)  # plot all edges wireframe\n",
    "        if (plot_v >0):\n",
    "            plt_visible_vertices(ax,dice)  # plot visible vertices in red and green\n"
   ]
  },
  {
   "cell_type": "code",
   "execution_count": 208,
   "metadata": {},
   "outputs": [
    {
     "data": {
      "text/plain": [
       "<Figure size 432x288 with 0 Axes>"
      ]
     },
     "metadata": {},
     "output_type": "display_data"
    },
    {
     "data": {
      "image/png": "[encoded data removed]",
      "text/plain": [
       "<Figure size 576x288 with 1 Axes>"
      ]
     },
     "metadata": {
      "needs_background": "light"
     },
     "output_type": "display_data"
    }
   ],
   "source": [
    "vx = 0.2;   # center of mass velocity\n",
    "theta = 0.3*np.pi;  lat = 0.7*np.pi\n",
    "r_axis = np.array([np.cos(theta)*np.sin(lat),np.sin(theta)*np.sin(lat),np.cos(lat)]) # rotation axis\n",
    "dt = 0.4 # timestep\n",
    "ndt = 50 # number of timesteps\n",
    "phidot = 0.2 # angular velocity in radians/time\n",
    "#xarr,yarr,zarr,v_visible = move_and_rotate_dice(vx,r_axis,phidot,dt,ndt)\n",
    "\n",
    "plt.figure()\n",
    "fig,ax = plt.subplots(1,1,figsize=(8,4))\n",
    "ax.set_aspect('equal')\n",
    "\n",
    "# do stuff every  di frames\n",
    "di=10;  move_and_rotate_i(ax,di,vx,r_axis,phidot,dt,ndt,1,0)  # plot plot wireframe\n",
    "di=1;  move_and_rotate_i(ax,di,vx,r_axis,phidot,dt,ndt,0,1)   # plot visible vertices"
   ]
  },
  {
   "cell_type": "code",
   "execution_count": 231,
   "metadata": {},
   "outputs": [],
   "source": [
    "# tarr,xarr,yarr,zarr,v_visible are vertex tracks produced via\n",
    "#  model_tracks_dice, plot tracks (visible vertices only) in a figure as a function of x,y\n",
    "def plt_tracks_xy(tarr,xarr,yarr,zarr,v_visible):\n",
    "    plt.figure()\n",
    "    fig,ax = plt.subplots(1,1,figsize=(8,4))\n",
    "    ax.set_aspect('equal')\n",
    "    ax.set_xlabel('x')\n",
    "    ax.set_ylabel('y')\n",
    "\n",
    "    iv = 0 # red vertex \n",
    "    vvis = np.squeeze(v_visible[iv,:]) > 0  # is visible\n",
    "    ax.plot(np.squeeze(xarr[iv,vvis]),np.squeeze(yarr[iv,vvis]), 'r.')\n",
    "    iv = 5 # another red vertex\n",
    "    vvis = np.squeeze(v_visible[iv,:]) > 0\n",
    "    ax.plot(np.squeeze(xarr[iv,vvis]),np.squeeze(yarr[iv,vvis]), 'r.')\n",
    "\n",
    "    # green vertices\n",
    "    for iv in range(1,5):\n",
    "        vvis = np.squeeze(v_visible[iv,:]) > 0\n",
    "        ax.plot(np.squeeze(xarr[iv,vvis]),np.squeeze(yarr[iv,vvis]), 'g.')\n",
    "        \n",
    "# plot x positions as a function of time for all tracks        \n",
    "def plt_tracks_xt(tarr,xarr,yarr,zarr,v_visible):\n",
    "    plt.figure()\n",
    "    fig,ax = plt.subplots(1,1,figsize=(5,4))\n",
    "    #ax.set_aspect('equal')\n",
    "    ax.set_xlabel('t')\n",
    "    ax.set_ylabel('x')\n",
    "\n",
    "    iv = 0 # red vertex \n",
    "    vvis = np.squeeze(v_visible[iv,:]) > 0  # is visible\n",
    "    ax.plot(tarr[vvis],np.squeeze(xarr[iv,vvis]), 'r.')\n",
    "    iv = 5 # another red vertex\n",
    "    vvis = np.squeeze(v_visible[iv,:]) > 0\n",
    "    ax.plot(tarr[vvis],np.squeeze(xarr[iv,vvis]), 'r.')\n",
    "    \n",
    "    # green vertices\n",
    "    for iv in range(1,5):\n",
    "        vvis = np.squeeze(v_visible[iv,:]) > 0\n",
    "        ax.plot(tarr[vvis],np.squeeze(xarr[iv,vvis]), 'g.')\n",
    "        \n",
    "        \n",
    "# plot y positions as a function of time for all tracks        \n",
    "def plt_tracks_yt(tarr,xarr,yarr,zarr,v_visible):\n",
    "    plt.figure()\n",
    "    fig,ax = plt.subplots(1,1,figsize=(5,4))\n",
    "    #ax.set_aspect('equal')\n",
    "    ax.set_xlabel('t')\n",
    "    ax.set_ylabel('y')\n",
    "\n",
    "    iv = 0 # red vertex \n",
    "    vvis = np.squeeze(v_visible[iv,:]) > 0  # is visible\n",
    "    ax.plot(tarr[vvis],np.squeeze(yarr[iv,vvis]), 'r.')\n",
    "    iv = 5 # another red vertex\n",
    "    vvis = np.squeeze(v_visible[iv,:]) > 0\n",
    "    ax.plot(tarr[vvis],np.squeeze(yarr[iv,vvis]), 'r.')\n",
    "    \n",
    "    # green vertices\n",
    "    for iv in range(1,5):\n",
    "        vvis = np.squeeze(v_visible[iv,:]) > 0\n",
    "        ax.plot(tarr[vvis],np.squeeze(yarr[iv,vvis]), 'g.')"
   ]
  },
  {
   "cell_type": "code",
   "execution_count": 230,
   "metadata": {},
   "outputs": [
    {
     "data": {
      "text/plain": [
       "<Figure size 432x288 with 0 Axes>"
      ]
     },
     "metadata": {},
     "output_type": "display_data"
    },
    {
     "data": {
      "image/png": "[encoded data removed]",
      "text/plain": [
       "<Figure size 576x288 with 1 Axes>"
      ]
     },
     "metadata": {
      "needs_background": "light"
     },
     "output_type": "display_data"
    },
    {
     "data": {
      "text/plain": [
       "<Figure size 432x288 with 0 Axes>"
      ]
     },
     "metadata": {},
     "output_type": "display_data"
    },
    {
     "data": {
      "image/png": "[encoded data removed]",
      "text/plain": [
       "<Figure size 360x288 with 1 Axes>"
      ]
     },
     "metadata": {
      "needs_background": "light"
     },
     "output_type": "display_data"
    }
   ],
   "source": [
    "# get tracks!\n",
    "tarr,xarr,yarr,zarr,v_visible = model_tracks_dice(vx,r_axis,phidot,dt,ndt)\n",
    "# plot tracks x,y\n",
    "plt_tracks_xy(tarr,xarr,yarr,zarr,v_visible)\n",
    "\n",
    "# plt tracks x vs t\n",
    "plt_tracks_xt(tarr,xarr,yarr,zarr,v_visible)\n",
    "# plt tracks y vs t\n",
    "plt_tracks_xt(tarr,xarr,yarr,zarr,v_visible)"
   ]
  },
  {
   "cell_type": "code",
   "execution_count": null,
   "metadata": {},
   "outputs": [],
   "source": []
  }
 ],
 "metadata": {
  "kernelspec": {
   "display_name": "Python 3",
   "language": "python",
   "name": "python3"
  },
  "language_info": {
   "codemirror_mode": {
    "name": "ipython",
    "version": 3
   },
   "file_extension": ".py",
   "mimetype": "text/x-python",
   "name": "python",
   "nbconvert_exporter": "python",
   "pygments_lexer": "ipython3",
   "version": "3.8.3"
  }
 },
 "nbformat": 4,
 "nbformat_minor": 4
}
