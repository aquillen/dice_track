{
 "cells": [
  {
   "cell_type": "code",
   "execution_count": null,
   "id": "030f6bf9",
   "metadata": {},
   "outputs": [],
   "source": [
    "import numpy as np\n",
    "import matplotlib.pyplot as plt\n",
    "\n",
    "from scipy.spatial.transform import Rotation as R\n",
    "#https://docs.scipy.org/doc/scipy/reference/generated/scipy.spatial.transform.Rotation.html#scipy.spatial.transform.Rotation\n",
    "\n",
    "# my library of functions for this project l\n",
    "# octa_lib contains vertices,faces of an octahedron \n",
    "from octa_lib import * \n",
    "\n",
    "%load_ext autoreload\n",
    "%autoreload 1\n",
    "%aimport octa_lib\n",
    "\n",
    "# for reading images \n",
    "from pims import pipeline\n",
    "from pims import Frame\n",
    "import pims\n",
    "\n",
    "from scipy.signal import savgol_filter\n",
    "\n",
    "from skimage.draw import polygon\n",
    "from skimage import feature\n",
    "from skimage.feature import match_template\n",
    "\n",
    "from skimage.filters import gaussian"
   ]
  },
  {
   "cell_type": "code",
   "execution_count": null,
   "id": "42e7d1bc",
   "metadata": {},
   "outputs": [],
   "source": [
    "# read in video images \n",
    "frames_dir = 'Aug_2_2022/cube01_*.png'\n",
    "framesrgb = pims.open(frames_dir) \n",
    "print('nframes=',len(framesrgb),', frame shape =',framesrgb[10].shape)\n",
    "\n",
    "# frames made this way from oct10.mp4 hight speed video\n",
    "#/usr/local/bin/ffmpeg -i oct10.mp4  -ss 00:00:0.000 -vframes 1000 o10_%04d.png -hide_banner\n",
    "\n",
    "fps =3000.0  #video fps ( is correct for oct10 video)\n",
    "cube_edge = 16.0 #  mm with calipers measured red edge\n",
    "theta_cam_deg = 45. # camera angle\n",
    "theta_cam = theta_cam_deg*np.pi/180.0\n",
    "\n",
    "oroot = 't10_' # for output files\n",
    "\n",
    "framesrgb[30][0:400,500:1280]  # show what is in this video"
   ]
  }
 ],
 "metadata": {
  "kernelspec": {
   "display_name": "Python 3 (ipykernel)",
   "language": "python",
   "name": "python3"
  },
  "language_info": {
   "codemirror_mode": {
    "name": "ipython",
    "version": 3
   },
   "file_extension": ".py",
   "mimetype": "text/x-python",
   "name": "python",
   "nbconvert_exporter": "python",
   "pygments_lexer": "ipython3",
   "version": "3.9.12"
  }
 },
 "nbformat": 4,
 "nbformat_minor": 5
}
